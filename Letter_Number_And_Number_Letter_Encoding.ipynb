{
 "cells": [
  {
   "cell_type": "code",
   "execution_count": 2,
   "metadata": {},
   "outputs": [
    {
     "name": "stdout",
     "output_type": "stream",
     "text": [
      "Write Text: This wORKS\n",
      "Encription:  [25, 19, 30, 45, -56, 24, 27, 27, 22, 24]\n",
      "Updated text:  ['y', 's', '~', '\\x8d', '(', 'x', '{', '{', 'v', 'x']\n",
      "Actual text:  ['t', 'h', 'i', 's', ' ', 'w', 'o', 'r', 'k', 's']\n"
     ]
    }
   ],
   "source": [
    "from itertools import starmap, cycle\n",
    "from operator import add,sub\n",
    "key = [5,11,21,26,8,1,12,9,11]       #EKUZHALIK\n",
    "key_d = [5,11,21,26,8,1,12,9,11]*100000\n",
    "characters = ['a','b','c','d','e','f','g','h','i','j','k','l','m','n','o','p','q','r','s','t','u','v','w','x','y','z']\n",
    "number_to_word = []\n",
    "word_to_number = []\n",
    "updated_word = []\n",
    "\n",
    "input_ = input('Write Text: ')\n",
    "input_ = input_.lower()\n",
    "for character in input_:\n",
    "    number = ord(character) - 96\n",
    "    word_to_number.append(number)\n",
    "\n",
    "#Encription\n",
    "m_output = list(starmap(add, zip(cycle(key), word_to_number)))\n",
    "print(\"Encription: \",m_output)\n",
    "\n",
    "for i in m_output:\n",
    "    n_w = chr(ord('`')+i)\n",
    "    updated_word.append(n_w)\n",
    "print(\"Updated text: \",updated_word)\n",
    "\n",
    "\n",
    "d_output = list(starmap(sub, zip(cycle(m_output), key_d[0:list(range(len(m_output)))[-1]+1])))\n",
    "for i in d_output:\n",
    "    a_w = chr(ord('`')+i)\n",
    "    number_to_word.append(a_w)\n",
    "print(\"Actual text: \",number_to_word)"
   ]
  }
 ],
 "metadata": {
  "kernelspec": {
   "display_name": "Python 3",
   "language": "python",
   "name": "python3"
  },
  "language_info": {
   "codemirror_mode": {
    "name": "ipython",
    "version": 3
   },
   "file_extension": ".py",
   "mimetype": "text/x-python",
   "name": "python",
   "nbconvert_exporter": "python",
   "pygments_lexer": "ipython3",
   "version": "3.7.0"
  }
 },
 "nbformat": 4,
 "nbformat_minor": 2
}
